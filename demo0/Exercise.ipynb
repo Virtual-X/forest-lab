{
 "cells": [
  {
   "cell_type": "code",
   "execution_count": 21,
   "metadata": {},
   "outputs": [
    {
     "data": {
      "text/plain": [
       "[8, 6, 5, 4, 3, 3, 4, 2, 5, 7, 2, 6, 7, 8, 5]"
      ]
     },
     "execution_count": 21,
     "metadata": {},
     "output_type": "execute_result"
    }
   ],
   "source": [
    "from pyquil import Program, get_qc\n",
    "from pyquil.gates import *\n",
    "\n",
    "def throw_octahedral_die():\n",
    "    program = Program()\n",
    "    program += H(0)\n",
    "    program += H(1)\n",
    "    program += H(2)\n",
    "    qc = get_qc('3q-qvm')\n",
    "    bits = qc.run_and_measure(program, trials=1)\n",
    "    return 1 + bits[0][0] + 2 * bits[1][0] + 4 * bits[2][0]\n",
    "[throw_octahedral_die() for i in range(15)]"
   ]
  },
  {
   "cell_type": "code",
   "execution_count": 58,
   "metadata": {},
   "outputs": [
    {
     "data": {
      "text/plain": [
       "[(3226, 10),\n",
       " (4659, 5),\n",
       " (9519, 5),\n",
       " (8410, 5),\n",
       " (7426, 10),\n",
       " (3045, 5),\n",
       " (8414, 10),\n",
       " (8535, 5),\n",
       " (6361, 10),\n",
       " (5296, 15),\n",
       " (8791, 5),\n",
       " (4365, 5),\n",
       " (6897, 15)]"
      ]
     },
     "execution_count": 58,
     "metadata": {},
     "output_type": "execute_result"
    }
   ],
   "source": [
    "from pyquil import Program, get_qc\n",
    "from pyquil.gates import *\n",
    "import math\n",
    "\n",
    "def throw_polyhedral_die(num_sides):\n",
    "    program = Program()\n",
    "    program += H(0)\n",
    "    program += H(1)\n",
    "    program += H(2)\n",
    "    n = int(math.log(num_sides - 1, 2)) + 1\n",
    "    qc = get_qc('3q-qvm')\n",
    "    t = num_sides + 1\n",
    "    x = 0\n",
    "    while t > num_sides:\n",
    "        bits = qc.run_and_measure(program, trials=int((n+2)/3))\n",
    "        x += int((n+2)/3)\n",
    "        t = 1\n",
    "        f = 1\n",
    "        for i in range(n):\n",
    "            if bits[i%3][int(i/3)]:\n",
    "                t += f\n",
    "            f *= 2\n",
    "    return (t, x)\n",
    "[throw_polyhedral_die(9999) for i in range(2, 15)]"
   ]
  },
  {
   "cell_type": "code",
   "execution_count": 62,
   "metadata": {},
   "outputs": [
    {
     "data": {
      "text/plain": [
       "[(6154, 5),\n",
       " (5784, 5),\n",
       " (8620, 5),\n",
       " (4059, 5),\n",
       " (7488, 5),\n",
       " (3688, 6),\n",
       " (7504, 5),\n",
       " (8925, 5),\n",
       " (6532, 5),\n",
       " (7230, 5),\n",
       " (1466, 5),\n",
       " (8846, 5),\n",
       " (9148, 6)]"
      ]
     },
     "execution_count": 62,
     "metadata": {},
     "output_type": "execute_result"
    }
   ],
   "source": [
    "from pyquil import Program, get_qc\n",
    "from pyquil.gates import *\n",
    "import math\n",
    "\n",
    "def throw_polyhedral_die(num_sides):\n",
    "    program = Program()\n",
    "    program += H(0)\n",
    "    program += H(1)\n",
    "    program += H(2)\n",
    "    qc = get_qc('3q-qvm')\n",
    "    x = 0\n",
    "    t = 0\n",
    "    f = num_sides / 2\n",
    "    while int(t) + 1 < t + f:\n",
    "        bits = qc.run_and_measure(program, trials=1)\n",
    "        x += 1\n",
    "        for i in range(3):\n",
    "            if bits[i][0]:\n",
    "                t += f\n",
    "            f /= 2\n",
    "    return (int(t), x)\n",
    "[throw_polyhedral_die(9999) for i in range(2, 15)]"
   ]
  },
  {
   "cell_type": "code",
   "execution_count": 72,
   "metadata": {},
   "outputs": [
    {
     "data": {
      "image/png": "[encoded data removed]",
      "text/plain": [
       "<Figure size 432x288 with 1 Axes>"
      ]
     },
     "metadata": {
      "needs_background": "light"
     },
     "output_type": "display_data"
    }
   ],
   "source": [
    "from pyquil import Program, get_qc\n",
    "from pyquil.gates import *\n",
    "import math\n",
    "\n",
    "class dice:\n",
    "    def __init__(self):\n",
    "        self._program = Program()\n",
    "        self._program += H(0)\n",
    "        self._program += H(1)\n",
    "        self._program += H(2)\n",
    "        self._qc = get_qc('3q-qvm')\n",
    "    def _get_bits(self, trials):\n",
    "        return self._qc.run_and_measure(self._program, trials=trials)\n",
    "    def throw_polyhedral_die(self, num_sides):\n",
    "        x = 0\n",
    "        t = 0\n",
    "        f = num_sides / 2\n",
    "        while int(t) + 1 < t + f:\n",
    "            bits = self._get_bits(1)\n",
    "            x += 1\n",
    "            for _i, bit in bits.items():\n",
    "                if bit[0]:\n",
    "                    t += f\n",
    "                f /= 2\n",
    "        return int(t)\n",
    "d = dice()\n",
    "d1 = [d.throw_polyhedral_die(9999) for i in range(15)]\n",
    "\n",
    "%matplotlib inline\n",
    "from matplotlib import pyplot as plt\n",
    "h = plt.hist(d1)\n"
   ]
  },
  {
   "cell_type": "code",
   "execution_count": null,
   "metadata": {
    "collapsed": true
   },
   "outputs": [],
   "source": []
  }
 ],
 "metadata": {
  "kernelspec": {
   "display_name": "Python 3",
   "language": "python",
   "name": "python3"
  },
  "language_info": {
   "codemirror_mode": {
    "name": "ipython",
    "version": 3
   },
   "file_extension": ".py",
   "mimetype": "text/x-python",
   "name": "python",
   "nbconvert_exporter": "python",
   "pygments_lexer": "ipython3",
   "version": "3.6.1"
  }
 },
 "nbformat": 4,
 "nbformat_minor": 2
}
